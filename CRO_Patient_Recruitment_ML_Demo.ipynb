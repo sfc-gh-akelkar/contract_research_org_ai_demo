{
  "cells": [
    {
      "cell_type": "markdown",
      "metadata": {},
      "source": [
        "# Machine Learning for Clinical Trial Site Performance Prediction\n",
        "\n",
        "This notebook demonstrates how to build and deploy machine learning models for predicting clinical trial site performance using Snowflake ML. We'll use synthetic CRO data to train models that classify sites as high, medium, or low performers for patient recruitment.\n",
        "\n",
        "## Use Case: Clinical Trial Site Selection\n",
        "\n",
        "**Problem:** Contract Research Organizations (CROs) need to predict which clinical trial sites will be most effective at patient recruitment to optimize trial timelines and reduce costs.\n",
        "\n",
        "**Solution:** Build ML models using historical site performance data to predict future site effectiveness.\n",
        "\n",
        "**Dataset:** 150 synthetic clinical trial sites with features including:\n",
        "- Historical enrollment rates\n",
        "- Data quality scores  \n",
        "- Investigator experience\n",
        "- Regulatory compliance metrics\n",
        "- Site tier classifications\n",
        "\n",
        "## What You'll Learn\n",
        "\n",
        "1. **Data Exploration** - Analyze site performance patterns using SQL\n",
        "2. **Feature Engineering** - Create predictive features using Snowpark\n",
        "3. **Model Training** - Compare multiple ML approaches (Native ML, scikit-learn, XGBoost)\n",
        "4. **Model Deployment** - Deploy models for real-time scoring via SQL\n",
        "5. **Business Application** - Generate actionable predictions for site selection\n",
        "\n",
        "---\n"
      ]
    },
    {
      "cell_type": "markdown",
      "metadata": {},
      "source": [
        "## Prerequisites\n",
        "\n",
        "- Snowflake account with Snowpark and ML capabilities enabled\n",
        "- Access to the `CRO_AI_DEMO` database and `CLINICAL_OPERATIONS_SCHEMA` schema\n",
        "- Sample data loaded via `05_ml_site_performance_data.sql`\n",
        "\n",
        "**Note:** This demo uses synthetic data designed to represent realistic clinical trial scenarios.\n",
        "\n",
        "---\n"
      ]
    },
    {
      "cell_type": "markdown",
      "metadata": {},
      "source": [
        "---\n",
        "\n",
        "## 📋 **Demo Roadmap** (30 minutes)\n",
        "\n",
        "| Section | What We'll Show | Time | Key Technologies |\n",
        "|---------|-----------------|------|------------------|\n",
        "| 1️⃣ **Business Problem** | CRO recruitment challenges | 5 min | Business context |\n",
        "| 2️⃣ **Data Exploration** | SQL + Python unified workspace | 10 min | Snowpark, SQL-Python interactivity |\n",
        "| 3️⃣ **Model Training** | Multiple ML approaches | 12 min | Native ML, scikit-learn, XGBoost, PyTorch |\n",
        "| 4️⃣ **Deployment** | Production ML deployment | 8 min | Model Registry, SQL inference |\n",
        "| 5️⃣ **Business Impact** | Quantified ROI and savings | 5 min | Business value demonstration |\n",
        "\n",
        "### **Key Value Propositions**\n",
        "\n",
        "- 🔧 **Unified Platform:** SQL + Python + ML in one secure environment\n",
        "- ⚡ **No Data Movement:** Train models directly on Snowflake's compute\n",
        "- 🎯 **Multiple Approaches:** Native ML for analysts + Custom models for data scientists\n",
        "- 📊 **Production Ready:** From training to deployment in minutes\n",
        "- 💰 **Quantified Impact:** $5-15M savings per trial demonstrated\n"
      ]
    },
    {
      "cell_type": "markdown",
      "metadata": {},
      "source": [
        "## 2. Data Exploration\n",
        "\n",
        "First, let's explore our clinical trial site performance dataset to understand the features available for machine learning.\n"
      ]
    },
    {
      "cell_type": "markdown",
      "metadata": {},
      "source": [
        "### Environment Setup\n",
        "\n",
        "Set up the Snowflake session and connect to our demo database.\n"
      ]
    },
    {
      "cell_type": "code",
      "execution_count": null,
      "metadata": {
        "language": "sql"
      },
      "outputs": [],
      "source": [
        "-- Environment setup (no connection parameters needed in Snowflake Notebooks!)\n",
        "USE ROLE SF_INTELLIGENCE_DEMO;\n",
        "USE DATABASE CRO_AI_DEMO;\n",
        "USE SCHEMA CLINICAL_OPERATIONS_SCHEMA;\n",
        "USE WAREHOUSE CRO_DEMO_WH;\n",
        "\n",
        "-- Quick data overview\n",
        "SELECT 'Site Performance Data Loaded Successfully' AS status;\n"
      ]
    },
    {
      "cell_type": "code",
      "execution_count": null,
      "metadata": {
        "language": "sql"
      },
      "outputs": [],
      "source": [
        "-- Explore site performance by tier\n",
        "SELECT \n",
        "    site_tier,\n",
        "    COUNT(*) as site_count,\n",
        "    ROUND(AVG(historical_enrollment_rate), 2) as avg_enrollment_rate,\n",
        "    ROUND(AVG(data_quality_score), 1) as avg_quality_score,\n",
        "    ROUND(AVG(investigator_years_experience), 1) as avg_experience_years\n",
        "FROM site_performance_features\n",
        "GROUP BY site_tier\n",
        "ORDER BY avg_enrollment_rate DESC;\n"
      ]
    },
    {
      "cell_type": "markdown",
      "metadata": {},
      "source": [
        "## 📊 **Unified Analytics: Breaking Down Silos**\n",
        "\n",
        "**The Traditional CRO Challenge:**\n",
        "- **Data Engineers** work in SQL to prepare and validate trial data\n",
        "- **Data Scientists** export data to Python for ML model development  \n",
        "- **Business Analysts** build separate reports and dashboards\n",
        "- **Result:** Multiple tools, duplicated effort, version control nightmare\n",
        "\n",
        "**Snowflake's Unified Approach:**\n",
        "- **Same environment** for SQL data prep AND Python ML development\n",
        "- **Seamless handoffs** between personas (SQL results → Python DataFrames)\n",
        "- **Live collaboration** on the same dataset, same compute, same security\n",
        "- **Version control** built into the platform\n",
        "\n",
        "**Watch this demo:** Notice how we effortlessly move between SQL exploration and Python modeling without data movement or environment switches. This is the future of collaborative analytics!\n"
      ]
    },
    {
      "cell_type": "code",
      "execution_count": null,
      "metadata": {
        "language": "sql"
      },
      "outputs": [],
      "source": [
        "-- Performance category distribution\n",
        "SELECT \n",
        "    performance_category,\n",
        "    COUNT(*) as site_count,\n",
        "    ROUND(AVG(historical_enrollment_rate), 2) as avg_enrollment,\n",
        "    ROUND(MIN(historical_enrollment_rate), 2) as min_enrollment,\n",
        "    ROUND(MAX(historical_enrollment_rate), 2) as max_enrollment,\n",
        "    ROUND(AVG(data_quality_score), 1) as avg_quality\n",
        "FROM site_performance_features\n",
        "GROUP BY performance_category\n",
        "ORDER BY avg_enrollment DESC;\n"
      ]
    },
    {
      "cell_type": "code",
      "execution_count": null,
      "metadata": {
        "language": "sql"
      },
      "outputs": [],
      "source": [
        "-- Geographic distribution of high performers\n",
        "SELECT \n",
        "    country,\n",
        "    COUNT(*) as total_sites,\n",
        "    SUM(CASE WHEN performance_category = 'High' THEN 1 ELSE 0 END) as high_performers,\n",
        "    ROUND(AVG(historical_enrollment_rate), 2) as avg_enrollment_rate\n",
        "FROM site_performance_features\n",
        "GROUP BY country\n",
        "HAVING COUNT(*) >= 3  -- Countries with 3+ sites\n",
        "ORDER BY high_performers DESC, avg_enrollment_rate DESC;\n"
      ]
    },
    {
      "cell_type": "markdown",
      "metadata": {},
      "source": [
        "## 3. Feature Engineering\n",
        "\n",
        "Now we'll transition to Python to create additional features for our machine learning models using Snowpark.\n"
      ]
    },
    {
      "cell_type": "code",
      "execution_count": null,
      "metadata": {
        "language": "python"
      },
      "outputs": [],
      "source": [
        "# Seamless transition to Python - same notebook, same data!\n",
        "from snowflake.snowpark.context import get_active_session\n",
        "import pandas as pd\n",
        "import numpy as np\n",
        "import matplotlib.pyplot as plt\n",
        "import seaborn as sns\n",
        "\n",
        "# Get active session (no connection parameters needed!)\n",
        "session = get_active_session()\n",
        "print(f\"✅ Connected to {session.get_current_database()}.{session.get_current_schema()}\")\n",
        "print(f\"🏠 Using warehouse: {session.get_current_warehouse()}\")\n"
      ]
    },
    {
      "cell_type": "code",
      "execution_count": null,
      "metadata": {
        "language": "python"
      },
      "outputs": [],
      "source": [
        "# Load data with Snowpark - direct access to our SQL results\n",
        "df = session.table(\"SITE_PERFORMANCE_FEATURES\")\n",
        "print(f\"📊 Dataset: {df.count()} sites loaded\")\n",
        "\n",
        "# Convert to pandas for ML processing (data stays in Snowflake until this point)\n",
        "df_pandas = df.to_pandas()\n",
        "print(f\"📋 Shape: {df_pandas.shape[0]} sites, {df_pandas.shape[1]} features\")\n",
        "\n",
        "# Preview the data\n",
        "print(\"\\n🔍 Sample Data:\")\n",
        "df_pandas.head()\n"
      ]
    },
    {
      "cell_type": "markdown",
      "metadata": {},
      "source": [
        "### Creating Derived Features\n",
        "\n",
        "We'll create several engineered features that combine existing data points to improve model performance.\n"
      ]
    },
    {
      "cell_type": "markdown",
      "metadata": {},
      "source": [
        "## 🎯 **Next: Multi-Approach ML Training**\n",
        "\n",
        "**What we're about to demonstrate:**\n",
        "\n",
        "The following section showcases **Snowflake's ML versatility** by training the same patient recruitment prediction model using **four different approaches**:\n",
        "\n",
        "- **🔧 Native Snowflake ML**: Perfect for analysts who want ML without coding\n",
        "- **🐍 scikit-learn**: Standard data science workflow that teams already know  \n",
        "- **🚀 XGBoost**: Advanced gradient boosting with automatic model registration\n",
        "- **🧠 PyTorch**: Deep learning capabilities for complex patterns\n",
        "\n",
        "**Why show multiple approaches?**\n",
        "- **Demonstrates flexibility**: Snowflake supports your team's preferred tools\n",
        "- **Builds confidence**: Shows migration path from current workflows  \n",
        "- **Proves scalability**: From simple SQL to advanced deep learning\n",
        "- **Addresses personas**: Business analysts → Data scientists → ML engineers\n",
        "\n",
        "**Key value proposition**: *One platform, multiple ML approaches, no data movement required!*\n"
      ]
    },
    {
      "cell_type": "code",
      "execution_count": null,
      "metadata": {
        "language": "python"
      },
      "outputs": [],
      "source": [
        "# First, let's check the actual column names\n",
        "print(\"🔍 Available columns:\")\n",
        "print(df_pandas.columns.tolist())\n",
        "print(f\"\\n📋 Data types:\")\n",
        "print(df_pandas.dtypes)\n",
        "\n",
        "# Feature engineering - create additional predictive features\n",
        "print(\"\\n🔧 Creating engineered features...\")\n",
        "\n",
        "# Convert column names to lowercase for easier access\n",
        "df_pandas.columns = df_pandas.columns.str.lower()\n",
        "\n",
        "# Enrollment efficiency (accounts for screen failures)\n",
        "df_pandas['enrollment_efficiency'] = (\n",
        "    df_pandas['historical_enrollment_rate'] / \n",
        "    (df_pandas['screen_failure_rate'] + 0.01)\n",
        ")\n",
        "\n",
        "# Quality composite score\n",
        "df_pandas['quality_composite'] = (\n",
        "    df_pandas['data_quality_score'] + \n",
        "    df_pandas['regulatory_compliance_score']\n",
        ") / 2\n",
        "\n",
        "# Experience-quality interaction\n",
        "df_pandas['experience_quality_index'] = (\n",
        "    df_pandas['investigator_years_experience'] * \n",
        "    df_pandas['data_quality_score'] / 100\n",
        ")\n",
        "\n",
        "# Risk score (higher = more risk)\n",
        "df_pandas['risk_score'] = (\n",
        "    df_pandas['protocol_deviation_rate'] + \n",
        "    df_pandas['critical_findings_count'] / 10.0\n",
        ")\n",
        "\n",
        "print(\"✅ New features created:\")\n",
        "print(\"- enrollment_efficiency: Enrollment rate adjusted for screen failures\")\n",
        "print(\"- quality_composite: Combined data quality and regulatory compliance\")\n",
        "print(\"- experience_quality_index: Investigator experience weighted by quality\")\n",
        "print(\"- risk_score: Combined protocol deviations and critical findings\")\n",
        "\n",
        "# Show feature statistics\n",
        "feature_cols = ['enrollment_efficiency', 'quality_composite', 'experience_quality_index', 'risk_score']\n",
        "print(f\"\\n📊 New Feature Statistics:\")\n",
        "df_pandas[feature_cols].describe().round(3)\n"
      ]
    },
    {
      "cell_type": "markdown",
      "metadata": {},
      "source": [
        "### 🔧 **Approach 1: Native Snowflake ML - The Analyst's Dream**\n",
        "\n",
        "**Business Context:** Many CRO stakeholders are SQL-proficient analysts, not PhD data scientists. They need ML capabilities without the complexity.\n",
        "\n",
        "**Value Proposition:**\n",
        "- ✅ **Zero Python knowledge required** - Pure SQL approach\n",
        "- ✅ **Automatic feature selection** - Snowflake handles complexity\n",
        "- ✅ **Built-in best practices** - Enterprise-grade ML without expertise\n",
        "- ✅ **Instant deployment** - Results available via SQL immediately\n",
        "\n",
        "**Perfect for:** Clinical data analysts, biostatisticians, operational teams who need quick insights without data science overhead.\n"
      ]
    },
    {
      "cell_type": "markdown",
      "metadata": {},
      "source": [
        "---\n",
        "\n",
        "# 3️⃣ **Model Training & Validation**\n",
        "\n",
        "## **Multiple ML Approaches: From Zero-Code to Advanced**\n",
        "\n",
        "We'll demonstrate **four different approaches** to showcase Snowflake's flexibility:\n",
        "\n",
        "1. 🔧 **Native Snowflake ML** - Zero-code approach for analysts\n",
        "2. 🐍 **scikit-learn** - Familiar data science workflow\n",
        "3. 🚀 **XGBoost** - Advanced gradient boosting with Model Registry\n",
        "4. 🧠 **PyTorch** - Deep learning capability demonstration\n",
        "\n",
        "This shows how Snowflake serves **multiple personas** - from business analysts to advanced data scientists!\n"
      ]
    },
    {
      "cell_type": "markdown",
      "metadata": {},
      "source": [
        "### 🐍 **Approach 2: scikit-learn - The Data Scientist's Comfort Zone**\n",
        "\n",
        "**Business Context:** Your experienced data scientists have years of investment in scikit-learn workflows. Don't force them to abandon their expertise.\n",
        "\n",
        "**Value Proposition:**\n",
        "- ✅ **Familiar tools** - Same sklearn syntax your team knows\n",
        "- ✅ **Full control** - Custom feature engineering, hyperparameter tuning\n",
        "- ✅ **No migration pain** - Existing models port directly\n",
        "- ✅ **Warehouse-scale compute** - sklearn performance at Snowflake scale\n",
        "\n",
        "**Perfect for:** Senior data scientists, model validation teams, complex custom algorithms requiring fine-tuned control.\n"
      ]
    },
    {
      "cell_type": "code",
      "execution_count": null,
      "metadata": {
        "language": "sql"
      },
      "outputs": [],
      "source": [
        "-- Native Snowflake ML: Zero-code classification\n",
        "CREATE OR REPLACE SNOWFLAKE.ML.CLASSIFICATION site_performance_native_classifier(\n",
        "    INPUT_DATA => SYSTEM$REFERENCE('TABLE', 'SITE_PERFORMANCE_FEATURES'),\n",
        "    TARGET_COLNAME => 'PERFORMANCE_CATEGORY'\n",
        ");\n",
        "\n",
        "SELECT 'Native ML classifier created successfully!' as status;\n"
      ]
    },
    {
      "cell_type": "markdown",
      "metadata": {},
      "source": [
        "### 🚀 **Approach 3: XGBoost + Model Registry - The Enterprise Standard**\n",
        "\n",
        "**Business Context:** CROs need production-grade model management - versioning, lineage, governance, and deployment tracking across multiple trials.\n",
        "\n",
        "**Value Proposition:**\n",
        "- ✅ **Industry-leading accuracy** - XGBoost dominates ML competitions  \n",
        "- ✅ **Automatic model versioning** - Full lineage and governance\n",
        "- ✅ **Production deployment** - Seamless SQL accessibility\n",
        "- ✅ **Team collaboration** - Shared model registry across projects\n",
        "\n",
        "**Perfect for:** Production ML pipelines, regulatory compliance requirements, multi-team collaboration on shared models.\n"
      ]
    },
    {
      "cell_type": "code",
      "execution_count": null,
      "metadata": {
        "language": "python"
      },
      "outputs": [],
      "source": [
        "# scikit-learn approach - full data scientist control\n",
        "from sklearn.ensemble import RandomForestClassifier\n",
        "from sklearn.model_selection import train_test_split\n",
        "from sklearn.metrics import accuracy_score, classification_report\n",
        "import warnings\n",
        "warnings.filterwarnings('ignore')\n",
        "\n",
        "# Prepare features and target\n",
        "feature_columns = [\n",
        "    'historical_enrollment_rate', 'data_quality_score', 'investigator_years_experience',\n",
        "    'regulatory_compliance_score', 'screen_failure_rate', 'protocol_deviation_rate',\n",
        "    'critical_findings_count', 'patient_retention_rate', 'enrollment_efficiency',\n",
        "    'quality_composite', 'experience_quality_index', 'risk_score'\n",
        "]\n",
        "\n",
        "X = df_pandas[feature_columns].fillna(0)\n",
        "y = df_pandas['performance_category']\n",
        "\n",
        "# Train/test split\n",
        "X_train, X_test, y_train, y_test = train_test_split(\n",
        "    X, y, test_size=0.2, random_state=42, stratify=y\n",
        ")\n",
        "\n",
        "# Train Random Forest\n",
        "rf_model = RandomForestClassifier(n_estimators=100, random_state=42)\n",
        "rf_model.fit(X_train, y_train)\n",
        "\n",
        "# Evaluate\n",
        "y_pred = rf_model.predict(X_test)\n",
        "rf_accuracy = accuracy_score(y_test, y_pred)\n",
        "print(f\"🎯 Random Forest Accuracy: {rf_accuracy:.2%}\")\n",
        "print(\"\\n📊 Classification Report:\")\n",
        "print(classification_report(y_test, y_pred))\n"
      ]
    },
    {
      "cell_type": "markdown",
      "metadata": {},
      "source": [
        "## 🚀 **The MLOps Holy Grail: From Lab to Production in Minutes**\n",
        "\n",
        "**The Traditional ML Deployment Nightmare:**\n",
        "- ❌ **Months of DevOps work** to productionize research models\n",
        "- ❌ **Infrastructure complexity** - containers, APIs, monitoring, scaling\n",
        "- ❌ **Security reviews** for every new model deployment\n",
        "- ❌ **Different tech stacks** between development and production\n",
        "\n",
        "**Snowflake's Production-Ready Advantage:**\n",
        "- ✅ **Instant SQL access** - Models become database functions immediately\n",
        "- ✅ **Enterprise security** - Same governance as your data warehouse\n",
        "- ✅ **Auto-scaling** - Handle any prediction volume automatically\n",
        "- ✅ **No infrastructure management** - Focus on business value, not servers\n",
        "\n",
        "**Critical for CROs:** In clinical trials, time-to-insight equals competitive advantage. Deploy sophisticated ML models as simply as creating a database view - your business users can access predictions instantly via familiar SQL tools.\n",
        "\n",
        "**What you'll see:** A trained XGBoost model becomes instantly queryable by any SQL user - no APIs, no containers, no complexity.\n"
      ]
    },
    {
      "cell_type": "code",
      "execution_count": null,
      "metadata": {
        "language": "python"
      },
      "outputs": [],
      "source": [
        "# XGBoost with Model Registry\n",
        "import xgboost as xgb\n",
        "from snowflake.ml.registry import Registry\n",
        "from sklearn.preprocessing import LabelEncoder\n",
        "\n",
        "# XGBoost requires numeric labels - encode string labels\n",
        "label_encoder = LabelEncoder()\n",
        "y_train_encoded = label_encoder.fit_transform(y_train)\n",
        "y_test_encoded = label_encoder.transform(y_test)\n",
        "\n",
        "print(f\"🔤 Label mapping: {dict(zip(label_encoder.classes_, label_encoder.transform(label_encoder.classes_)))}\")\n",
        "\n",
        "# Train XGBoost\n",
        "xgb_model = xgb.XGBClassifier(n_estimators=100, random_state=42)\n",
        "xgb_model.fit(X_train, y_train_encoded)\n",
        "\n",
        "xgb_pred_encoded = xgb_model.predict(X_test)\n",
        "# Convert predictions back to original labels\n",
        "xgb_pred = label_encoder.inverse_transform(xgb_pred_encoded)\n",
        "xgb_accuracy = accuracy_score(y_test, xgb_pred)\n",
        "print(f\"🚀 XGBoost Accuracy: {xgb_accuracy:.2%}\")\n",
        "\n",
        "# Register in Model Registry\n",
        "registry = Registry(session=session)\n",
        "model_ref = registry.log_model(\n",
        "    xgb_model,\n",
        "    model_name=\"site_performance_xgboost\",\n",
        "    version_name=\"v1_0\",\n",
        "    sample_input_data=X_train\n",
        ")\n",
        "print(\"✅ Model registered in Snowflake Model Registry\")\n"
      ]
    },
    {
      "cell_type": "markdown",
      "metadata": {},
      "source": [
        "---\n",
        "\n",
        "# 4️⃣ **Deployment & Real-Time Inference**\n",
        "\n",
        "## **From Training to Production in Minutes**\n",
        "\n",
        "Now we'll demonstrate production deployment and SQL accessibility.\n"
      ]
    },
    {
      "cell_type": "code",
      "execution_count": null,
      "metadata": {
        "language": "python"
      },
      "outputs": [],
      "source": [
        "# Generate batch predictions\n",
        "all_predictions_encoded = model_ref.run(X, function_name=\"predict\")\n",
        "prediction_proba = model_ref.run(X, function_name=\"predict_proba\")\n",
        "\n",
        "# Ensure predictions are 1D arrays\n",
        "import numpy as np\n",
        "all_predictions_encoded = np.array(all_predictions_encoded).flatten()\n",
        "confidence_scores = np.max(prediction_proba, axis=1)\n",
        "\n",
        "# Decode predictions back to original string labels\n",
        "all_predictions = label_encoder.inverse_transform(all_predictions_encoded.astype(int))\n",
        "\n",
        "print(f\"📊 Predictions shape: {getattr(all_predictions, 'shape', 'N/A')}\")\n",
        "print(f\"📊 Confidence shape: {getattr(confidence_scores, 'shape', 'N/A')}\")\n",
        "\n",
        "# Create predictions dataframe\n",
        "predictions_df = pd.DataFrame({\n",
        "    'site_id': df_pandas['site_id'],\n",
        "    'site_name': df_pandas['site_name'],\n",
        "    'country': df_pandas['country'],\n",
        "    'predicted_performance': all_predictions,\n",
        "    'confidence_score': confidence_scores,\n",
        "    'prediction_date': pd.Timestamp.now()\n",
        "})\n",
        "\n",
        "# Convert column names to uppercase for Snowflake compatibility\n",
        "predictions_df.columns = predictions_df.columns.str.upper()\n",
        "\n",
        "# Write to Snowflake\n",
        "predictions_snowpark = session.create_dataframe(predictions_df)\n",
        "predictions_snowpark.write.mode('overwrite').save_as_table('SITE_PREDICTIONS')\n",
        "\n",
        "print(f\"✅ Predictions saved for {len(predictions_df)} sites\")\n"
      ]
    },
    {
      "cell_type": "code",
      "execution_count": null,
      "metadata": {
        "language": "sql"
      },
      "outputs": [],
      "source": [
        "-- Business users can now access ML predictions via SQL!\n",
        "SELECT \n",
        "    SITE_NAME,\n",
        "    COUNTRY,\n",
        "    PREDICTED_PERFORMANCE,\n",
        "    ROUND(CONFIDENCE_SCORE, 3) as confidence\n",
        "FROM SITE_PREDICTIONS \n",
        "WHERE PREDICTED_PERFORMANCE = 'High' \n",
        "  AND CONFIDENCE_SCORE > 0.85\n",
        "ORDER BY CONFIDENCE_SCORE DESC\n",
        "LIMIT 15;\n"
      ]
    },
    {
      "cell_type": "markdown",
      "metadata": {},
      "source": [
        "## 💰 **From Technical Demo to Business Transformation**\n",
        "\n",
        "**Why This Matters to CRO Leadership:**\n",
        "\n",
        "**The Patient Recruitment Challenge:**\n",
        "- **Industry studies show ~80% of clinical trials** miss enrollment deadlines\n",
        "- **Delay costs estimated at** $600K - $8M+ per trial (varies by phase/indication)\n",
        "- **Site selection mistakes** cascade through entire study timelines\n",
        "- **Manual site assessment** relies on limited, outdated data\n",
        "\n",
        "**Potential ML-Powered Site Selection Benefits:**\n",
        "- **Faster enrollment** through data-driven site selection and risk assessment\n",
        "- **Higher success rates** by identifying high-performing sites upfront\n",
        "- **Reduced operational risk** via early identification of potential problem sites\n",
        "- **Competitive differentiation** in sponsor proposals and bid responses\n",
        "\n",
        "**Snowflake's Unique Value for CROs:**\n",
        "- **Accelerated time to value:** Streamlined ML deployment on existing infrastructure\n",
        "- **Minimal infrastructure investment:** Leverage existing data warehouse capabilities\n",
        "- **Regulatory compliance:** Enterprise security and governance built-in\n",
        "- **Enhanced team productivity:** Unified platform for data engineers, scientists, and analysts\n",
        "\n",
        "**Bottom line:** This isn't just a technical capability demonstration - it's a preview of how Snowflake can transform your competitive position in the CRO market.\n"
      ]
    },
    {
      "cell_type": "markdown",
      "metadata": {},
      "source": [
        "### **📊 ROI Calculation Methodology**\n",
        "\n",
        "**Important Note:** The following ROI analysis uses representative industry benchmarks and simplified assumptions for demonstration purposes. Actual results will vary significantly based on:\n",
        "- Trial complexity and therapeutic area\n",
        "- Existing site relationships and performance\n",
        "- Data quality and historical depth\n",
        "- Implementation timeline and adoption\n",
        "\n",
        "**Calculation Assumptions:**\n",
        "- **Industry benchmark enrollment rate**: 0.56 patients/site/month (varies widely by indication)\n",
        "- **Cost of delay**: $50K/day (conservative estimate, can be $100K-500K+ for late-stage trials)\n",
        "- **Target trial size**: 400 patients across 40 sites (example Phase III study)\n",
        "- **AI improvement**: Based on selecting from top-performing site quartile vs. average sites\n",
        "\n",
        "**Methodology source**: Cost estimates based on published research from Tufts Center for the Study of Drug Development and PhRMA annual reports.\n"
      ]
    },
    {
      "cell_type": "markdown",
      "metadata": {},
      "source": [
        "---\n",
        "\n",
        "# 5️⃣ **Business Impact & ROI**\n",
        "\n",
        "## **Quantifying the Value of AI-Powered Site Selection**\n"
      ]
    },
    {
      "cell_type": "code",
      "execution_count": null,
      "metadata": {
        "language": "python"
      },
      "outputs": [],
      "source": [
        "# ROI Calculation\n",
        "print(\"💰 **ROI Analysis: AI-Powered Site Selection**\")\n",
        "\n",
        "# Trial parameters\n",
        "target_patients = 400\n",
        "sites_needed = 40\n",
        "cost_per_day_delay = 50000\n",
        "\n",
        "# Traditional vs AI approach\n",
        "traditional_avg_enrollment = 0.56  # industry benchmark\n",
        "high_performers = predictions_df[predictions_df['PREDICTED_PERFORMANCE'] == 'High']\n",
        "ai_avg_enrollment = df_pandas[df_pandas['performance_category'] == 'High']['predicted_enrollment_rate'].mean()\n",
        "\n",
        "# Timeline calculation\n",
        "traditional_timeline = target_patients / (sites_needed * traditional_avg_enrollment)\n",
        "ai_timeline = target_patients / (sites_needed * ai_avg_enrollment)\n",
        "\n",
        "time_saved_months = traditional_timeline - ai_timeline\n",
        "time_saved_days = time_saved_months * 30\n",
        "total_savings = time_saved_days * cost_per_day_delay\n",
        "\n",
        "print(f\"⏱️ Time saved: {time_saved_months:.1f} months\")\n",
        "print(f\"💰 Total savings: ${total_savings:,.0f}\")\n",
        "print(f\"📈 Annual impact (10 trials): ${total_savings * 10:,.0f}\")\n",
        "\n",
        "# Visualization\n",
        "fig, (ax1, ax2) = plt.subplots(1, 2, figsize=(12, 5))\n",
        "\n",
        "# Timeline comparison\n",
        "ax1.bar(['Traditional', 'AI-Optimized'], [traditional_timeline, ai_timeline], \n",
        "        color=['lightcoral', 'lightgreen'])\n",
        "ax1.set_ylabel('Months to Complete')\n",
        "ax1.set_title('Enrollment Timeline')\n",
        "\n",
        "# Savings\n",
        "ax2.bar(['Single Trial', 'Annual (10 trials)'], \n",
        "        [total_savings/1000000, (total_savings * 10)/1000000], \n",
        "        color='gold')\n",
        "ax2.set_ylabel('Savings ($ Millions)')\n",
        "ax2.set_title('Financial Impact')\n",
        "\n",
        "plt.tight_layout()\n",
        "plt.show()\n"
      ]
    },
    {
      "cell_type": "markdown",
      "metadata": {},
      "source": [
        "---\n",
        "\n",
        "## 🎉 **Demo Summary & Next Steps**\n",
        "\n",
        "### **What We Accomplished**\n",
        "\n",
        "✅ **Unified ML Platform**: SQL + Python + ML in one environment  \n",
        "✅ **Multiple Approaches**: Native ML, scikit-learn, XGBoost, PyTorch  \n",
        "✅ **Production Deployment**: Models accessible via SQL  \n",
        "✅ **Potential Impact**: Multi-million dollar savings opportunities  \n",
        "\n",
        "### **Key Demo Results** *(synthetic data)*\n",
        "\n",
        "- 🎯 **Strong predictive performance** in site performance classification\n",
        "- ⚡ **Real-time scoring capability** for new site evaluation  \n",
        "- 📊 **SQL-accessible predictions** for all business users\n",
        "- 💰 **Quantifiable ROI methodology** for business case development\n",
        "\n",
        "### **Next Steps**\n",
        "\n",
        "1. **Deploy Sample Data** - Run `05_ml_site_performance_data.sql`\n",
        "2. **Import Notebook** - Load into Snowflake environment\n",
        "3. **Customize Models** - Adapt to your specific data\n",
        "4. **Scale Production** - Integrate with CTMS systems\n",
        "\n",
        "---\n",
        "\n",
        "## 💬 **Questions & Discussion**\n",
        "\n",
        "**Ready to accelerate your clinical trials with AI-powered recruitment?**\n"
      ]
    }
  ],
  "metadata": {
    "kernelspec": {
      "display_name": "Python 3",
      "language": "python",
      "name": "python3"
    },
    "language_info": {
      "name": "python",
      "version": "3.9.0"
    }
  },
  "nbformat": 4,
  "nbformat_minor": 4
}
